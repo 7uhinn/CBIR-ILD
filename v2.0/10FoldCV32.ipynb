{
 "cells": [
  {
   "cell_type": "code",
   "execution_count": 1,
   "metadata": {},
   "outputs": [],
   "source": [
    "import numpy as np\n",
    "import cv2\n",
    "import os\n",
    "import matplotlib.pyplot as plt #importing libraries"
   ]
  },
  {
   "cell_type": "code",
   "execution_count": 2,
   "metadata": {},
   "outputs": [],
   "source": [
    "def load_images_from_folder(folder): #load the roi images\n",
    "    ildimg = []\n",
    "    for i in range(3000):\n",
    "        filename = str(i)+\".jpg\"\n",
    "        img = cv2.imread(os.path.join(folder,filename))\n",
    "        if img is not None:\n",
    "            ildimg.append(img)\n",
    "    return ildimg"
   ]
  },
  {
   "cell_type": "code",
   "execution_count": 3,
   "metadata": {},
   "outputs": [],
   "source": [
    "aug = load_images_from_folder(\"augmented_data_32\")"
   ]
  },
  {
   "cell_type": "code",
   "execution_count": 4,
   "metadata": {},
   "outputs": [],
   "source": [
    "for i in range(len(aug)):\n",
    "    aug[i] = ((aug[i]/np.amax(aug[i]))*255).astype('uint8')\n",
    "\n",
    "aug = np.asarray(aug)"
   ]
  },
  {
   "cell_type": "code",
   "execution_count": 5,
   "metadata": {},
   "outputs": [],
   "source": [
    "target = []\n",
    "for i in range(6):\n",
    "    for j in range(i*100,(i+1)*100):\n",
    "        target.append(i)\n",
    "target = np.asarray(target)"
   ]
  },
  {
   "cell_type": "code",
   "execution_count": 6,
   "metadata": {},
   "outputs": [],
   "source": [
    "ntarget = []\n",
    "ntarget = np.concatenate((target,target,target,target,target,target,target))"
   ]
  },
  {
   "cell_type": "code",
   "execution_count": 7,
   "metadata": {},
   "outputs": [],
   "source": [
    "import numpy as np\n",
    "from sklearn.model_selection import KFold\n",
    "kf = KFold(n_splits=10)\n",
    "data10 = []\n",
    "target10 = []\n",
    "for train_index, test_index in kf.split(aug):\n",
    "    data10.append(aug[train_index])\n",
    "    target10.append(ntarget[train_index])"
   ]
  },
  {
   "cell_type": "code",
   "execution_count": 8,
   "metadata": {},
   "outputs": [],
   "source": [
    "cvT = []\n",
    "cvt = []\n",
    "\n",
    "tarT = []\n",
    "tart = []\n",
    "\n",
    "cvT.append(np.concatenate((data10[0],data10[1],data10[2],data10[3],data10[4],data10[5],data10[6],data10[7],data10[8])))\n",
    "cvt.append(data10[9])\n",
    "tarT.append(np.concatenate((target10[0],target10[1],target10[2],target10[3],target10[4],target10[5],target10[6],target10[7],target10[8])))\n",
    "tart.append(target10[9])\n",
    "\n",
    "cvT.append(np.concatenate((data10[0],data10[1],data10[2],data10[3],data10[4],data10[5],data10[6],data10[7],data10[9])))\n",
    "cvt.append(data10[8])\n",
    "tarT.append(np.concatenate((target10[0],target10[1],target10[2],target10[3],target10[4],target10[5],target10[6],target10[7],target10[9])))\n",
    "tart.append(target10[8])\n",
    "\n",
    "cvT.append(np.concatenate((data10[0],data10[1],data10[2],data10[3],data10[4],data10[5],data10[6],data10[8],data10[9])))\n",
    "cvt.append(data10[7])\n",
    "tarT.append(np.concatenate((target10[0],target10[1],target10[2],target10[3],target10[4],target10[5],target10[6],target10[8],target10[9])))\n",
    "tart.append(target10[7])\n",
    "\n",
    "\n",
    "cvT.append(np.concatenate((data10[0],data10[1],data10[2],data10[3],data10[4],data10[5],data10[7],data10[8],data10[9])))\n",
    "cvt.append(data10[6])\n",
    "tarT.append(np.concatenate((target10[0],target10[1],target10[2],target10[3],target10[4],target10[5],target10[7],target10[8],target10[9])))\n",
    "tart.append(target10[6])\n",
    "\n",
    "cvT.append(np.concatenate((data10[0],data10[1],data10[2],data10[3],data10[4],data10[6],data10[7],data10[8],data10[9])))\n",
    "cvt.append(data10[5])\n",
    "tarT.append(np.concatenate((target10[0],target10[1],target10[2],target10[3],target10[4],target10[6],target10[7],target10[8],target10[9])))\n",
    "tart.append(target10[5])\n",
    "\n",
    "cvT.append(np.concatenate((data10[0],data10[1],data10[2],data10[3],data10[5],data10[6],data10[7],data10[8],data10[9])))\n",
    "cvt.append(data10[4])\n",
    "tarT.append(np.concatenate((target10[0],target10[1],target10[2],target10[3],target10[5],target10[6],target10[7],target10[8],target10[9])))\n",
    "tart.append(target10[4])\n",
    "\n",
    "cvT.append(np.concatenate((data10[0],data10[1],data10[2],data10[4],data10[5],data10[6],data10[7],data10[8],data10[9])))\n",
    "cvt.append(data10[3])\n",
    "tarT.append(np.concatenate((target10[0],target10[1],target10[2],target10[4],target10[5],target10[6],target10[7],target10[8],target10[9])))\n",
    "tart.append(target10[3])\n",
    "\n",
    "cvT.append(np.concatenate((data10[0],data10[1],data10[3],data10[4],data10[5],data10[6],data10[7],data10[8],data10[9])))\n",
    "cvt.append(data10[2])\n",
    "tarT.append(np.concatenate((target10[0],target10[1],target10[3],target10[4],target10[5],target10[6],target10[7],target10[8],target10[9])))\n",
    "tart.append(target10[2])\n",
    "\n",
    "cvT.append(np.concatenate((data10[0],data10[2],data10[3],data10[4],data10[5],data10[6],data10[7],data10[8],data10[9])))\n",
    "cvt.append(data10[1])\n",
    "tarT.append(np.concatenate((target10[0],target10[2],target10[3],target10[4],target10[5],target10[6],target10[7],target10[8],target10[9])))\n",
    "tart.append(target10[1])\n",
    "\n",
    "cvT.append(np.concatenate((data10[1],data10[2],data10[3],data10[4],data10[5],data10[6],data10[7],data10[8],data10[9])))\n",
    "cvt.append(data10[0])\n",
    "tarT.append(np.concatenate((target10[1],target10[2],target10[3],target10[4],target10[5],target10[6],target10[7],target10[8],target10[9])))\n",
    "tart.append(target10[0])"
   ]
  },
  {
   "cell_type": "code",
   "execution_count": null,
   "metadata": {},
   "outputs": [],
   "source": []
  }
 ],
 "metadata": {
  "environment": {
   "name": "tf2-2-2-gpu.2-2.m49",
   "type": "gcloud",
   "uri": "gcr.io/deeplearning-platform-release/tf2-2-2-gpu.2-2:m49"
  },
  "kernelspec": {
   "display_name": "Python 3",
   "language": "python",
   "name": "python3"
  },
  "language_info": {
   "codemirror_mode": {
    "name": "ipython",
    "version": 3
   },
   "file_extension": ".py",
   "mimetype": "text/x-python",
   "name": "python",
   "nbconvert_exporter": "python",
   "pygments_lexer": "ipython3",
   "version": "3.7.6"
  }
 },
 "nbformat": 4,
 "nbformat_minor": 4
}
